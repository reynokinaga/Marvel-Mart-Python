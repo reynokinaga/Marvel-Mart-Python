{
 "cells": [
  {
   "cell_type": "markdown",
   "id": "be6af4be-8f73-4bf7-8078-8314d534831d",
   "metadata": {},
   "source": [
    "Python Project - Marvel Mart Project\\\n",
    "Reyn Okinaga\\\n",
    "March 7, 2023"
   ]
  },
  {
   "cell_type": "code",
   "execution_count": 74,
   "id": "57f9e249-216a-42ca-9067-462eebe16891",
   "metadata": {},
   "outputs": [],
   "source": [
    "import numpy as np\n",
    "import pandas as pd\n",
    "import seaborn as sns\n",
    "import matplotlib.pyplot as plt\n",
    "import csv\n",
    "\n",
    "proj = pd.read_csv(\"PLabProject/MM_Sales.csv\")\n",
    "pd.set_option('display.float_format', lambda x: '%.3f' % x)\n",
    "\n",
    "# imports libraries needed for this lab as well as the csv file used in this project"
   ]
  },
  {
   "cell_type": "markdown",
   "id": "1e18df74-3a6e-4713-adef-ca6be05104c3",
   "metadata": {},
   "source": [
    "# Part 1: Cleaning the Data"
   ]
  },
  {
   "cell_type": "code",
   "execution_count": 75,
   "id": "3d07771b-a21e-42d0-b87d-ece50f7f4ddd",
   "metadata": {},
   "outputs": [
    {
     "name": "stdout",
     "output_type": "stream",
     "text": [
      "Region             0\n",
      "Country            0\n",
      "Item Type          6\n",
      "Sales Channel      0\n",
      "Order Priority    15\n",
      "Order Date         0\n",
      "Order ID           0\n",
      "Ship Date          0\n",
      "Units Sold         0\n",
      "Unit Price         0\n",
      "Unit Cost          0\n",
      "Total Revenue      0\n",
      "Total Cost         0\n",
      "Total Profit       0\n",
      "dtype: int64 \n",
      "\n",
      "Region             object\n",
      "Country            object\n",
      "Item Type          object\n",
      "Sales Channel      object\n",
      "Order Priority     object\n",
      "Order Date         object\n",
      "Order ID           object\n",
      "Ship Date          object\n",
      "Units Sold          int64\n",
      "Unit Price        float64\n",
      "Unit Cost         float64\n",
      "Total Revenue     float64\n",
      "Total Cost        float64\n",
      "Total Profit      float64\n",
      "dtype: object \n",
      "\n"
     ]
    },
    {
     "data": {
      "text/plain": [
       "Country\n",
       "154.06            1\n",
       "437.2             1\n",
       "651.21            1\n",
       "Afghanistan     260\n",
       "Albania         286\n",
       "               ... \n",
       "Vatican City    274\n",
       "Vietnam         268\n",
       "Yemen           238\n",
       "Zambia          262\n",
       "Zimbabwe        260\n",
       "Name: Country, Length: 188, dtype: int64"
      ]
     },
     "execution_count": 75,
     "metadata": {},
     "output_type": "execute_result"
    }
   ],
   "source": [
    "sumNA = proj.isna().sum()\n",
    "print(sumNA, \"\\n\")\n",
    "# finds all missing values, but not incorrect values\n",
    "\n",
    "print(proj.dtypes, \"\\n\")\n",
    "\n",
    "proj.groupby(\"Country\")[\"Country\"].agg(\"count\")\n",
    "# code that discovers 3 numbers that should be strings in the country column"
   ]
  },
  {
   "cell_type": "code",
   "execution_count": 76,
   "id": "886013d2-072b-464d-a36b-1e5648cecb66",
   "metadata": {},
   "outputs": [
    {
     "data": {
      "text/plain": [
       "Item Type\n",
       "Baby Food          4078\n",
       "Beverages          4173\n",
       "Cereal             4141\n",
       "Clothes            4155\n",
       "Cosmetics          4192\n",
       "Fruits             4221\n",
       "Household          4138\n",
       "Meat               4221\n",
       "Office Supplies    4138\n",
       "Personal Care      4185\n",
       "Snacks             4163\n",
       "Vegetables         4189\n",
       "Name: Item Type, dtype: int64"
      ]
     },
     "execution_count": 76,
     "metadata": {},
     "output_type": "execute_result"
    }
   ],
   "source": [
    "proj.groupby(\"Item Type\")[\"Item Type\"].agg(\"count\")\n",
    "# code that discovers that there are 6 missing values in item type column"
   ]
  },
  {
   "cell_type": "code",
   "execution_count": 77,
   "id": "604704b9-30f4-440d-9bf0-5968cc2578af",
   "metadata": {},
   "outputs": [
    {
     "data": {
      "text/plain": [
       "Order Priority\n",
       "C     5013\n",
       "H    15099\n",
       "L     9986\n",
       "M    19887\n",
       "Name: Order Priority, dtype: int64"
      ]
     },
     "execution_count": 77,
     "metadata": {},
     "output_type": "execute_result"
    }
   ],
   "source": [
    "proj.groupby(\"Order Priority\")[\"Order Priority\"].agg(\"count\")\n",
    "# discovers that there are 15 missing values in the order priority column"
   ]
  },
  {
   "cell_type": "code",
   "execution_count": 78,
   "id": "2b3154e8-2ade-43e1-9fa9-28668c9a5888",
   "metadata": {},
   "outputs": [
    {
     "data": {
      "text/plain": [
       "Order ID\n",
       "100013196    1\n",
       "100023066    1\n",
       "100061261    1\n",
       "100071990    1\n",
       "100074136    1\n",
       "            ..\n",
       "999999463    1\n",
       "Cosmetics    1\n",
       "Fruits       1\n",
       "Meat         1\n",
       "Snacks       2\n",
       "Name: Order ID, Length: 49999, dtype: int64"
      ]
     },
     "execution_count": 78,
     "metadata": {},
     "output_type": "execute_result"
    }
   ],
   "source": [
    "proj.groupby(\"Order ID\")[\"Order ID\"].agg(\"count\")\n",
    "# discovers that there are 5 incorrect strings that should be numbers"
   ]
  },
  {
   "cell_type": "code",
   "execution_count": 79,
   "id": "b37d3325-3513-4f54-8347-c89d230f661c",
   "metadata": {},
   "outputs": [],
   "source": [
    "projClean = proj.copy()"
   ]
  },
  {
   "cell_type": "code",
   "execution_count": 80,
   "id": "68ee9949-9db2-4b17-83db-c7b1ed16e286",
   "metadata": {},
   "outputs": [],
   "source": [
    "projClean.to_csv(\"PLabProject/MM_Sales_Clean.csv\")"
   ]
  },
  {
   "cell_type": "code",
   "execution_count": 81,
   "id": "85abbb1f-37ad-4d1e-9485-32c492fe3d96",
   "metadata": {},
   "outputs": [],
   "source": [
    "projCleaned = pd.read_csv(\"PLabProject/MM_Sales_Clean.csv\")"
   ]
  },
  {
   "cell_type": "markdown",
   "id": "54e3d71e-4559-46cc-8db5-5241058f3f9a",
   "metadata": {},
   "source": [
    "The three code lines above this creates a copy of the data file to create a clean copy that we are going to now edit in the correct data."
   ]
  },
  {
   "cell_type": "code",
   "execution_count": 82,
   "id": "ea05a53e-e048-4450-925f-9cedbb663c63",
   "metadata": {},
   "outputs": [
    {
     "name": "stdout",
     "output_type": "stream",
     "text": [
      "\n",
      "Testing erronous data in Country\n",
      "154.06\n",
      "437.2\n",
      "651.21\n",
      "Number of errors in Country 3\n"
     ]
    }
   ],
   "source": [
    "print(\"\\nTesting erronous data in Country\")\n",
    "count = 0 \n",
    "for index, row in projCleaned.iterrows():\n",
    "    try:\n",
    "        row.loc[\"Country\"] = float(row.loc[\"Country\"])\n",
    "        print(projCleaned.loc[int(index), \"Country\"])\n",
    "        projCleaned.loc[int(index), \"Country\"] = \"NULL\"\n",
    "        count+=1\n",
    "    except:\n",
    "        count+=0\n",
    "        \n",
    "print(f\"Number of errors in Country {count}\")\n",
    "# converts all rows into float, if it converts it is bad and is turned into a \"NULL\" value"
   ]
  },
  {
   "cell_type": "code",
   "execution_count": 83,
   "id": "873e69c5-059c-4dc9-9b9a-a7bff4fcd8b7",
   "metadata": {},
   "outputs": [
    {
     "data": {
      "text/plain": [
       "Country\n",
       "Afghanistan     260\n",
       "Albania         286\n",
       "Algeria         283\n",
       "Andorra         277\n",
       "Angola          290\n",
       "               ... \n",
       "Vatican City    274\n",
       "Vietnam         268\n",
       "Yemen           238\n",
       "Zambia          262\n",
       "Zimbabwe        260\n",
       "Name: Country, Length: 186, dtype: int64"
      ]
     },
     "execution_count": 83,
     "metadata": {},
     "output_type": "execute_result"
    }
   ],
   "source": [
    "projCleaned.groupby(\"Country\")[\"Country\"].agg(\"count\")"
   ]
  },
  {
   "cell_type": "markdown",
   "id": "45fe7dae-778f-4b6f-ac3f-5a782305e5d7",
   "metadata": {},
   "source": [
    "The two codes above this pertain to the country column. The first code corrects the incorrect data and replaces it with \"NULL\" and the second code shows that we have fixed the data."
   ]
  },
  {
   "cell_type": "code",
   "execution_count": 84,
   "id": "3a3d2e67-f5ee-42b4-a115-42686a5c4a81",
   "metadata": {},
   "outputs": [],
   "source": [
    "projCleaned[\"Item Type\"].fillna(\"NULL\", inplace = True)\n",
    "# fills all missing values of Item Type to NULL"
   ]
  },
  {
   "cell_type": "code",
   "execution_count": 85,
   "id": "2edf1ce3-4f71-4fe5-b34f-b2bf619e8237",
   "metadata": {},
   "outputs": [
    {
     "data": {
      "text/plain": [
       "Item Type\n",
       "Baby Food          4078\n",
       "Beverages          4173\n",
       "Cereal             4141\n",
       "Clothes            4155\n",
       "Cosmetics          4192\n",
       "Fruits             4221\n",
       "Household          4138\n",
       "Meat               4221\n",
       "NULL                  6\n",
       "Office Supplies    4138\n",
       "Personal Care      4185\n",
       "Snacks             4163\n",
       "Vegetables         4189\n",
       "Name: Item Type, dtype: int64"
      ]
     },
     "execution_count": 85,
     "metadata": {},
     "output_type": "execute_result"
    }
   ],
   "source": [
    "projCleaned.groupby(\"Item Type\")[\"Item Type\"].agg(\"count\")"
   ]
  },
  {
   "cell_type": "markdown",
   "id": "64151d9f-d86e-4344-9cf9-5a41b5b7eb5d",
   "metadata": {},
   "source": [
    "The two codes above pertain to the Item Type column. The first code fills all the missing values to \"NULL\" and the second code shows that we have corrected the data."
   ]
  },
  {
   "cell_type": "code",
   "execution_count": 86,
   "id": "3922f2e2-1239-46bb-a277-a92bc22f0dda",
   "metadata": {},
   "outputs": [],
   "source": [
    "projCleaned[\"Order Priority\"].fillna(\"NULL\", inplace = True)\n",
    "# fills all missing values of Item Type to NULL"
   ]
  },
  {
   "cell_type": "code",
   "execution_count": 87,
   "id": "6a93560d-7695-4c2a-86c4-1152c77c06e1",
   "metadata": {},
   "outputs": [
    {
     "data": {
      "text/plain": [
       "Order Priority\n",
       "C        5013\n",
       "H       15099\n",
       "L        9986\n",
       "M       19887\n",
       "NULL       15\n",
       "Name: Order Priority, dtype: int64"
      ]
     },
     "execution_count": 87,
     "metadata": {},
     "output_type": "execute_result"
    }
   ],
   "source": [
    "projCleaned.groupby(\"Order Priority\")[\"Order Priority\"].agg(\"count\")"
   ]
  },
  {
   "cell_type": "markdown",
   "id": "e8dcfbea-05b3-4a4d-bfbc-d486808d2e80",
   "metadata": {},
   "source": [
    "The two codes above pertain to the Order Priority column. The first code fills the missing values to \"NULL\" and the second code shows that we have corrected the data."
   ]
  },
  {
   "cell_type": "code",
   "execution_count": 88,
   "id": "8af08215-d0eb-4bd1-89a0-14601bdac40d",
   "metadata": {},
   "outputs": [
    {
     "name": "stdout",
     "output_type": "stream",
     "text": [
      "\n",
      "Testing erronous data in Order ID\n",
      "Cosmetics\n",
      "Fruits\n",
      "Snacks\n",
      "Meat\n",
      "Snacks\n",
      "Number of errors in Order ID 5\n"
     ]
    }
   ],
   "source": [
    "count = 0 \n",
    "\n",
    "print(\"\\nTesting erronous data in Order ID\")\n",
    "\n",
    "for index, row in projCleaned.iterrows():\n",
    "    try:\n",
    "        row.loc[\"Order ID\"] = float(row.loc[\"Order ID\"])\n",
    "        row.loc[\"Order ID\"] < 0 # finds strings\n",
    "    except:\n",
    "        print(row.loc[\"Order ID\"])\n",
    "        projCleaned.loc[index, \"Order ID\"] = 0.0\n",
    "        count+=1\n",
    "print(f\"Number of errors in Order ID {count}\")\n",
    "# converts all rows into floats, if it cannot, then it is bad and converts strings into 0.0."
   ]
  },
  {
   "cell_type": "code",
   "execution_count": 89,
   "id": "1641bbf0-58f7-461a-8926-75b0798f294a",
   "metadata": {},
   "outputs": [
    {
     "data": {
      "text/plain": [
       "Order ID\n",
       "0.0          5\n",
       "100013196    1\n",
       "100023066    1\n",
       "100061261    1\n",
       "100071990    1\n",
       "            ..\n",
       "999941527    1\n",
       "999944102    1\n",
       "999951398    1\n",
       "999998605    1\n",
       "999999463    1\n",
       "Name: Order ID, Length: 49996, dtype: int64"
      ]
     },
     "execution_count": 89,
     "metadata": {},
     "output_type": "execute_result"
    }
   ],
   "source": [
    "projCleaned.groupby(\"Order ID\")[\"Order ID\"].agg(\"count\")"
   ]
  },
  {
   "cell_type": "markdown",
   "id": "21232c9e-1a64-4b0c-bd74-2a9d3c3c38cf",
   "metadata": {},
   "source": [
    "The two codes above pertain to the Order ID column. The first code corrects the incorrect data by replacing it with 0.0 and the second code shows that we have fixed the data."
   ]
  },
  {
   "cell_type": "code",
   "execution_count": 90,
   "id": "f0a31ad5-c70b-43e5-a81e-7a812b807991",
   "metadata": {},
   "outputs": [],
   "source": [
    "projCleaned = projCleaned[projCleaned[\"Country\"] != \"NULL\"]\n",
    "projCleaned = projCleaned[projCleaned[\"Item Type\"] != \"NULL\"]\n",
    "projCleaned = projCleaned[projCleaned[\"Order Priority\"] != \"NULL\"]\n",
    "projCleaned = projCleaned[projCleaned[\"Order ID\"] != 0.0]"
   ]
  },
  {
   "cell_type": "markdown",
   "id": "cb13bc31-1d53-44c8-adce-0f47c675131a",
   "metadata": {},
   "source": [
    "This code removes all the rows that we have altered as a result of incorrect information."
   ]
  },
  {
   "cell_type": "markdown",
   "id": "c1a097bd-bf25-4b75-849a-c9377e1a810f",
   "metadata": {},
   "source": [
    "# Part 2:  Exploratory Data Analysis with Reports & Visualizations"
   ]
  },
  {
   "cell_type": "code",
   "execution_count": 91,
   "id": "9f981328-b2f3-429b-b49d-48fbf31dc497",
   "metadata": {},
   "outputs": [
    {
     "name": "stdout",
     "output_type": "stream",
     "text": [
      "Country\n",
      "Trinidad and Tobago                 321\n",
      "Guinea                              318\n",
      "Cape Verde                          314\n",
      "Maldives                            311\n",
      "Finland                             310\n",
      "Democratic Republic of the Congo    308\n",
      "Samoa                               306\n",
      "Malta                               305\n",
      "China                               303\n",
      "South Sudan                         302\n",
      "Name: Country, dtype: int64\n"
     ]
    },
    {
     "data": {
      "text/plain": [
       "Text(0, 0.5, 'Country')"
      ]
     },
     "execution_count": 91,
     "metadata": {},
     "output_type": "execute_result"
    },
    {
     "data": {
      "image/png": "[encoded data removed]",
      "text/plain": [
       "<Figure size 432x288 with 1 Axes>"
      ]
     },
     "metadata": {
      "needs_background": "light"
     },
     "output_type": "display_data"
    }
   ],
   "source": [
    "#2.2.1 - gathers the top ten countries we have the most sales in by grouping the columns together and counting the rows\n",
    "top_10 = projCleaned.groupby([\"Country\"])[\"Country\"].count().nlargest(10)\n",
    "print(top_10)\n",
    "top_10.plot(kind=\"barh\")\n",
    "plt.xlabel(\"Total Amount of Sales\")\n",
    "plt.ylabel(\"Country\")"
   ]
  },
  {
   "cell_type": "code",
   "execution_count": 92,
   "id": "a0a8cc99-ecdf-49f1-815d-b80ab5f1df81",
   "metadata": {},
   "outputs": [],
   "source": [
    "# 2.1.2 - writes to csv file of the information above with a created dictionary to input values in the writer\n",
    "series = top_10.head(10)\n",
    "series.to_dict()\n",
    "\n",
    "with open(\"PLabProject/MM_Rankings.txt\", \"w+\") as writer:\n",
    "    writer.write(\"Countries Most Sale Transactions:\")\n",
    "\n",
    "with open(\"PLabProject/MM_Rankings.txt\", \"a+\") as writer:\n",
    "    for k, v in series.items():\n",
    "        writer.write(f\"\\n{k}: {v}\")\n",
    "    \n",
    "    writer.write(\"\\nThe country we should build our shopping center is Cape Verde because it has the most amount of sales, but does not have a shipping center.\") \n",
    "    writer.write(\" Cape Verde has the third most sales, however the the top two countries with the most sales already have a shipping center.\\n\")"
   ]
  },
  {
   "cell_type": "code",
   "execution_count": 93,
   "id": "557e0d34-e883-42a6-91f8-08ce5cf766a6",
   "metadata": {},
   "outputs": [
    {
     "data": {
      "text/plain": [
       "Sales Channel\n",
       "Offline    19788\n",
       "Online     30183\n",
       "Name: Sales Channel, dtype: int64"
      ]
     },
     "execution_count": 93,
     "metadata": {},
     "output_type": "execute_result"
    }
   ],
   "source": [
    "#2.2.1 - gains data of the amount of online and offline sales\n",
    "projCleaned.groupby(\"Sales Channel\")[\"Sales Channel\"].agg(\"count\")"
   ]
  },
  {
   "cell_type": "code",
   "execution_count": 94,
   "id": "3500a345-cf0a-4086-9b4a-b17d06fece12",
   "metadata": {},
   "outputs": [
    {
     "data": {
      "text/plain": [
       "Order Priority\n",
       "C     5012\n",
       "H    15094\n",
       "L     9984\n",
       "M    19881\n",
       "Name: Order Priority, dtype: int64"
      ]
     },
     "execution_count": 94,
     "metadata": {},
     "output_type": "execute_result"
    }
   ],
   "source": [
    "#2.2.2 - gains data of the order priority types\n",
    "projCleaned.groupby(\"Order Priority\")[\"Order Priority\"].agg(\"count\")"
   ]
  },
  {
   "cell_type": "code",
   "execution_count": 95,
   "id": "bf638ba5-5afd-4b5e-ae14-5daef0161b2d",
   "metadata": {},
   "outputs": [
    {
     "name": "stdout",
     "output_type": "stream",
     "text": [
      "Sales Channel\n",
      "Offline    19788\n",
      "Online     30183\n",
      "Name: Sales Channel, dtype: int64\n"
     ]
    },
    {
     "data": {
      "image/png": "[encoded data removed]",
      "text/plain": [
       "<Figure size 504x504 with 1 Axes>"
      ]
     },
     "metadata": {},
     "output_type": "display_data"
    }
   ],
   "source": [
    "#2.2.3 - pie chart 1\n",
    "salesType = projCleaned.groupby([\"Sales Channel\"]).mean()\n",
    "salesTypeS = projCleaned.groupby([\"Sales Channel\"])[\"Sales Channel\"].count()\n",
    "\n",
    "print(salesTypeS)\n",
    "\n",
    "plt.figure(figsize=(7,7))\n",
    "plt.pie(salesTypeS, labels=salesTypeS.index, shadow = True, autopct='%1.2f%%')\n",
    "plt.axis('equal')\n",
    "plt.legend(loc=2, title=\"Sales Types\")\n",
    "plt.show()"
   ]
  },
  {
   "cell_type": "code",
   "execution_count": 96,
   "id": "b68d7859-8224-4e80-b21c-58113c4635ea",
   "metadata": {},
   "outputs": [
    {
     "name": "stdout",
     "output_type": "stream",
     "text": [
      "Order Priority\n",
      "C     5012\n",
      "H    15094\n",
      "L     9984\n",
      "M    19881\n",
      "Name: Order Priority, dtype: int64\n"
     ]
    },
    {
     "data": {
      "image/png": "[encoded data removed]",
      "text/plain": [
       "<Figure size 504x504 with 1 Axes>"
      ]
     },
     "metadata": {},
     "output_type": "display_data"
    }
   ],
   "source": [
    "#2.2.3 - pie chart 2\n",
    "orderTypeS = projCleaned.groupby([\"Order Priority\"])[\"Order Priority\"].count()\n",
    "\n",
    "print(orderTypeS)\n",
    "\n",
    "plt.figure(figsize=(7,7))\n",
    "plt.pie(orderTypeS, labels=orderTypeS.index, shadow = True, autopct='%1.2f%%')\n",
    "plt.axis('equal')\n",
    "plt.legend(loc=2, title=\"Sales Types\")\n",
    "plt.show()"
   ]
  },
  {
   "cell_type": "code",
   "execution_count": 97,
   "id": "998b2d7d-495b-4134-8bee-ddfd40d7e6c1",
   "metadata": {},
   "outputs": [],
   "source": [
    "#2.2.4 - appends to csv file of the information above with a created dictionary to input values in the writer\n",
    "series1 = salesTypeS.head()\n",
    "series1.to_dict()\n",
    "series2 = orderTypeS.head(4)\n",
    "series2.to_dict()\n",
    "\n",
    "with open(\"PLabProject/MM_Rankings.txt\", \"a+\") as writer:\n",
    "    writer.write(\"\\nSales Channels:\")\n",
    "    \n",
    "    for k, v in series1.items():\n",
    "        writer.write(f\"\\n{k}: {v}\")\n",
    "    \n",
    "    writer.write(\"\\nWe do more online sales.\\n\")\n",
    "    writer.write(\"\\nOrder Priorities:\")\n",
    "    \n",
    "    for k, v in series2.items():\n",
    "        writer.write(f\"\\n{k}: {v}\")\n",
    "    \n",
    "    writer.write(\"\\nWe do more M order priorities.\\n\")\n"
   ]
  },
  {
   "cell_type": "code",
   "execution_count": 98,
   "id": "cc4bf21d-61e7-41d2-bdbd-10d4ed4f0b6d",
   "metadata": {},
   "outputs": [
    {
     "name": "stderr",
     "output_type": "stream",
     "text": [
      "C:\\ProgramData\\Anaconda3\\lib\\site-packages\\seaborn\\_decorators.py:36: FutureWarning: Pass the following variables as keyword args: x, y. From version 0.12, the only valid positional argument will be `data`, and passing other arguments without an explicit keyword will result in an error or misinterpretation.\n",
      "  warnings.warn(\n"
     ]
    },
    {
     "data": {
      "image/png": "[encoded data removed]",
      "text/plain": [
       "<Figure size 1080x360 with 1 Axes>"
      ]
     },
     "metadata": {
      "needs_background": "light"
     },
     "output_type": "display_data"
    }
   ],
   "source": [
    "#2.3.1 - boxplot of item type and total profit\n",
    "plt.figure(figsize=(15,5))\n",
    "ay = sns.boxplot(projCleaned[\"Item Type\"], projCleaned[\"Total Profit\"])\n",
    "plt.ticklabel_format(style=\"plain\", axis=\"y\")"
   ]
  },
  {
   "cell_type": "code",
   "execution_count": 99,
   "id": "1d0a4f7d-7f21-47e6-93fe-ec64c1c93638",
   "metadata": {},
   "outputs": [
    {
     "data": {
      "text/plain": [
       "Item Type\n",
       "Baby Food         1942865748.120\n",
       "Beverages          327559249.080\n",
       "Cereal            1824726412.290\n",
       "Clothes           1520832019.680\n",
       "Cosmetics         3638407966.750\n",
       "Fruits              51010570.920\n",
       "Household         3401180998.060\n",
       "Meat              1196342404.400\n",
       "Office Supplies   2605440187.500\n",
       "Personal Care      535250525.600\n",
       "Snacks            1149715758.720\n",
       "Vegetables        1322639660.240\n",
       "Name: Total Profit, dtype: float64"
      ]
     },
     "execution_count": 99,
     "metadata": {},
     "output_type": "execute_result"
    }
   ],
   "source": [
    "#2.3.2 - gathers information of sum of the total profit by item type\n",
    "projCleaned.groupby(\"Item Type\")[\"Total Profit\"].agg(\"sum\")"
   ]
  },
  {
   "cell_type": "code",
   "execution_count": 100,
   "id": "ab0e4da8-91c5-4602-8ebe-753dbe76aa56",
   "metadata": {},
   "outputs": [
    {
     "data": {
      "image/png": "[encoded data removed]",
      "text/plain": [
       "<Figure size 432x288 with 1 Axes>"
      ]
     },
     "metadata": {
      "needs_background": "light"
     },
     "output_type": "display_data"
    }
   ],
   "source": [
    "#2.3.3 - creates a bar graph of the information above \n",
    "o = projCleaned.groupby(\"Item Type\")[\"Total Profit\"].agg(\"sum\")\n",
    "o.plot(kind=\"barh\")\n",
    "plt.xlabel(\"Total Profit Sum ($)\")\n",
    "plt.ylabel(\"Item Type\")\n",
    "plt.xticks(rotation=90)\n",
    "plt.ticklabel_format(style=\"plain\", axis=\"x\")\n",
    "plt.show()"
   ]
  },
  {
   "cell_type": "code",
   "execution_count": 101,
   "id": "ca54dd08-d82d-4d28-b412-4ca442fca06a",
   "metadata": {},
   "outputs": [],
   "source": [
    "#2.3.4 - gathers the top 3 item types that have made the most profit\n",
    "top_3 = projCleaned.groupby(\"Item Type\")[\"Total Profit\"].agg(\"sum\").nlargest(3)"
   ]
  },
  {
   "cell_type": "code",
   "execution_count": 102,
   "id": "cd8099d6-a486-4f56-b336-aee4c9b6e524",
   "metadata": {},
   "outputs": [],
   "source": [
    "#2.3.5 - appends to csv file of the information above with a created dictionary to input values in the writer\n",
    "series3 = top_3.head(3)\n",
    "series3.to_dict()\n",
    "\n",
    "with open(\"PLabProject/MM_Rankings.txt\", \"a+\") as writer:\n",
    "    writer.write(\"\\nHighest Selling Items:\")\n",
    "    for k, v in series3.items():\n",
    "        writer.write(f\"\\n{k}: {v}\")\n",
    "    \n",
    "    writer.write(\"\\nWe profited from Cosmetics the most.\\n\")"
   ]
  },
  {
   "cell_type": "markdown",
   "id": "41cb2823-25e6-4060-a915-d6c850711db7",
   "metadata": {},
   "source": [
    "2.3.6\\\n",
    "The results are expected as the box plots distributions show the maximum and correlate well to the top values of the sum of the total profits. The top three values of the box plot correlate to the top three values in the bar graph. The box plot shows the ranges of values of the total profits related to the item type. The only thing unexpected is the NULL result as in the box plot, it shows that there is a max value close to the third top value, yet the NULL value in the bar chart doesn't show the bar for the sum of the total profits. "
   ]
  },
  {
   "cell_type": "code",
   "execution_count": 103,
   "id": "99fc9e99-0b67-4e24-aa82-2c92ec334665",
   "metadata": {},
   "outputs": [],
   "source": [
    "#2.4.1 - gets the sum of the units sold, unit cost, total revenue, total cost, and total profit and makes a dicitionary for the writer\n",
    "# for later as well as a dictionary for the graph later\n",
    "USsum = projCleaned[\"Units Sold\"].sum()\n",
    "UCsum = projCleaned[\"Unit Cost\"].sum()\n",
    "TRsum = projCleaned[\"Total Revenue\"].sum()\n",
    "TCsum = projCleaned[\"Total Cost\"].sum()\n",
    "TPsum = projCleaned[\"Total Profit\"].sum()\n",
    "\n",
    "sumD =  {\"Units Sold\": USsum, \"Unit Cost\": UCsum, \"Total Revenue\": TRsum, \"Total Cost\": TCsum, \"Total Profit\": TPsum}\n",
    "sumDgraph = {\"Total Revenue\": TRsum, \"Total Cost\": TCsum, \"Total Profit\": TPsum}"
   ]
  },
  {
   "cell_type": "code",
   "execution_count": 104,
   "id": "a8af6e00-9688-4074-abb5-7058246dc85c",
   "metadata": {},
   "outputs": [],
   "source": [
    "#2.4.2 - gets the mean of the units sold, unit cost, total revenue, total cost, and total profit and makes a dicitionary for the writer\n",
    "# for later as well as a dictionary for the graph later\n",
    "USmean = projCleaned[\"Units Sold\"].mean()\n",
    "UCmean = projCleaned[\"Unit Cost\"].mean()\n",
    "TRmean = projCleaned[\"Total Revenue\"].mean()\n",
    "TCmean = projCleaned[\"Total Cost\"].mean()\n",
    "TPmean = projCleaned[\"Total Profit\"].mean()\n",
    "\n",
    "meanD =  {\"Units Sold\": USmean, \"Unit Cost\": UCmean, \"Total Revenue\": TRmean, \"Total Cost\": TCmean, \"Total Profit\": TPmean}\n",
    "meanDgraph =  {\"Total Revenue\": TRmean, \"Total Cost\": TCmean, \"Total Profit\": TPmean}"
   ]
  },
  {
   "cell_type": "code",
   "execution_count": 105,
   "id": "77b8fb0f-004c-4d50-b404-8313afeb9d6f",
   "metadata": {},
   "outputs": [],
   "source": [
    "#2.4.3 - gets the maximum of the units sold, unit cost, total revenue, total cost, and total profit and makes a dicitionary for the writer\n",
    "# for later as well as a dictionary for the graph later\n",
    "USmax = projCleaned[\"Units Sold\"].max()\n",
    "UCmax = projCleaned[\"Unit Cost\"].max()\n",
    "TRmax = projCleaned[\"Total Revenue\"].max()\n",
    "TCmax = projCleaned[\"Total Cost\"].max()\n",
    "TPmax = projCleaned[\"Total Profit\"].max()\n",
    "\n",
    "maxD =  {\"Units Sold\": USmax, \"Unit Cost\": UCmax, \"Total Revenue\": TRmax, \"Total Cost\": TCmax, \"Total Profit\": TPmax}\n",
    "maxDgraph =  {\"Total Revenue\": TRmax, \"Total Cost\": TCmax, \"Total Profit\": TPmax}"
   ]
  },
  {
   "cell_type": "code",
   "execution_count": 106,
   "id": "1f556f32-d3dd-4318-89cc-3aa301f6d894",
   "metadata": {},
   "outputs": [
    {
     "data": {
      "image/png": "[encoded data removed]",
      "text/plain": [
       "<Figure size 432x288 with 1 Axes>"
      ]
     },
     "metadata": {
      "needs_background": "light"
     },
     "output_type": "display_data"
    }
   ],
   "source": [
    "#2.4.4 - creates a line plot of the sum values of the total revenue, total cost, and total profit\n",
    "plt.plot(list(sumDgraph.keys()), list(sumDgraph.values()))\n",
    "plt.title(\"Sums\")\n",
    "plt.xlabel(\"Values\")\n",
    "plt.ylabel(\"Dollars ($)\")\n",
    "plt.ticklabel_format(style=\"plain\", axis=\"y\")\n",
    "plt.show()"
   ]
  },
  {
   "cell_type": "code",
   "execution_count": 107,
   "id": "c80acef2-5c00-4d02-a4f0-9953c24c722f",
   "metadata": {},
   "outputs": [
    {
     "data": {
      "image/png": "[encoded data removed]",
      "text/plain": [
       "<Figure size 432x288 with 1 Axes>"
      ]
     },
     "metadata": {
      "needs_background": "light"
     },
     "output_type": "display_data"
    }
   ],
   "source": [
    "#2.4.4 - creates a line plot of the average and max values of the total revenue, total cost, and total profit\n",
    "# the red line shows the max values and the green line shows the average values.\n",
    "plt.plot(list(meanDgraph.keys()), list(meanDgraph.values()), \"-g\")\n",
    "plt.title(\"Averages(Green) and Maximums(Red)\")\n",
    "plt.plot(list(maxDgraph.keys()), list(maxDgraph.values()), \"-r\")\n",
    "plt.xlabel(\"Values\")\n",
    "plt.ylabel(\"Dollars ($)\")\n",
    "plt.ticklabel_format(style=\"plain\", axis=\"y\")\n",
    "plt.show()"
   ]
  },
  {
   "cell_type": "code",
   "execution_count": 108,
   "id": "60400f0b-ec33-46c8-a9ff-3cc44021969f",
   "metadata": {},
   "outputs": [],
   "source": [
    "#2.4.5 - appends to csv file of the information above with the previously created dictionary to input values in the writer with two\n",
    "# decimal places\n",
    "with open(\"PLabProject/MM_Calc.txt\", \"a+\") as writer:\n",
    "    writer.write(\"\\nSums:\")\n",
    "    for k, v in sumD.items():\n",
    "        writer.write(f\"\\n{k}: {v:.2f}\")\n",
    "    \n",
    "    writer.write(\"\\n\\nAverages:\")\n",
    "    for k, v in meanD.items():\n",
    "        writer.write(f\"\\n{k}: {v:.2f}\")\n",
    "    \n",
    "    writer.write(\"\\n\\nMaximums:\")\n",
    "    for k, v in maxD.items():\n",
    "        writer.write(f\"\\n{k}: {v:.2f}\")"
   ]
  },
  {
   "cell_type": "markdown",
   "id": "a0a78309-20bd-4944-9b9c-8765a32bbab5",
   "metadata": {},
   "source": [
    "# Part 3: Cross-Reference Statistics"
   ]
  },
  {
   "cell_type": "code",
   "execution_count": 109,
   "id": "79767cb3-af6e-4abc-9de8-a2f7e383012d",
   "metadata": {},
   "outputs": [
    {
     "name": "stdout",
     "output_type": "stream",
     "text": [
      "{'Central America and the Caribbean': ['Panama', 'Guatemala', 'Jamaica', 'Costa Rica', 'Nicaragua', 'Saint Vincent and the Grenadines', 'Barbados', 'Cuba', 'El Salvador', 'Saint Kitts and Nevis ', 'Dominican Republic', 'Trinidad and Tobago', 'Grenada', 'Belize', 'Antigua and Barbuda ', 'Saint Lucia', 'Honduras', 'Haiti', 'The Bahamas', 'Dominica'], 'Sub-Saharan Africa': ['Mali', \"Cote d'Ivoire\", 'Chad', 'Senegal', 'Comoros', 'Ethiopia', 'Democratic Republic of the Congo', 'The Gambia', 'Madagascar', 'Ghana', 'Gabon', 'Uganda', 'Sudan', 'Kenya', 'Guinea', 'Burkina Faso', 'Togo', 'Benin', 'Mauritania', 'Guinea-Bissau', 'Namibia', 'Mozambique', 'Zimbabwe', 'Equatorial Guinea', 'Tanzania', 'Liberia', 'Cameroon', 'Malawi', 'South Africa', 'Niger', 'Djibouti', 'Angola', 'Zambia', 'South Sudan', 'Sao Tome and Principe', 'Sierra Leone', 'Republic of the Congo', 'Seychelles ', 'Eritrea', 'Swaziland', 'Rwanda', 'Cape Verde', 'Burundi', 'Nigeria', 'Lesotho', 'Central African Republic', 'Botswana', 'Mauritius '], 'North America': ['Canada', 'Mexico', 'Greenland', 'United States of America'], 'Europe': ['Slovenia', 'Sweden', 'Latvia', 'Malta', 'France', 'Hungary', 'Romania', 'Albania', 'Norway', 'Kosovo', 'Russia', 'Belgium', 'Macedonia', 'Bosnia and Herzegovina', 'Monaco', 'United Kingdom', 'Lithuania', 'Switzerland', 'Belarus', 'Italy', 'Estonia', 'Slovakia', 'Armenia', 'Spain', 'Moldova ', 'Germany', 'Vatican City', 'Greece', 'San Marino', 'Portugal', 'Finland', 'Poland', 'Andorra', 'Liechtenstein', 'Ireland', 'Austria', 'Serbia', 'Ukraine', 'Cyprus', 'Netherlands', 'Luxembourg', 'Denmark', 'Croatia', 'Georgia', 'Montenegro', 'Czech Republic', 'Iceland', 'Bulgaria'], 'Australia and Oceania': ['Solomon Islands', 'Australia', 'Papua New Guinea', 'New Zealand', 'Samoa ', 'Fiji', 'Kiribati', 'Tuvalu', 'Vanuatu', 'East Timor', 'Palau', 'Tonga', 'Federated States of Micronesia', 'Nauru', 'Marshall Islands'], 'Middle East and North Africa': ['Pakistan', 'Somalia', 'Tunisia ', 'Israel', 'Libya', 'Syria', 'Jordan', 'Saudi Arabia', 'Iran', 'Morocco', 'Turkey', 'Algeria', 'Yemen', 'United Arab Emirates', 'Iraq', 'Oman', 'Kuwait', 'Bahrain', 'Lebanon', 'Azerbaijan', 'Egypt', 'Afghanistan', 'Qatar'], 'Asia': ['India', 'Philippines', 'Sri Lanka', 'Taiwan', 'Tajikistan', 'South Korea', 'Japan', 'Turkmenistan', 'Nepal', 'Kazakhstan', 'China', 'Singapore', 'Brunei', 'Cambodia', 'Maldives', 'Thailand', 'Mongolia', 'Laos', 'Vietnam', 'Kyrgyzstan', 'Bhutan', 'Myanmar', 'Indonesia', 'Malaysia', 'North Korea', 'Uzbekistan', 'Bangladesh']}\n"
     ]
    }
   ],
   "source": [
    "#3.1.1 - creates a list of the regions and countries with no duplicates and then puts the lists into the dictionary with region being the key and countries list being the values.\n",
    "\n",
    "Region_Countries = list(set(projCleaned[\"Region\"]))\n",
    "Country_in_Regions = {}\n",
    "\n",
    "# gets unique countries in each region with the for loop\n",
    "for x in Region_Countries: \n",
    "    country = projCleaned.loc[projCleaned[\"Region\"] == x, \"Country\"]\n",
    "    country = list(set(country))\n",
    "    Country_in_Regions[x] = country\n",
    "    \n",
    "print(Country_in_Regions)"
   ]
  },
  {
   "cell_type": "code",
   "execution_count": 110,
   "id": "c107ccf8-5acc-41e4-a42f-dd75abd91b08",
   "metadata": {},
   "outputs": [],
   "source": [
    "#3.1.2 - creates a series from the country column and region from the dictionary and then uses that information to write a csv file.\n",
    "countryDF = pd.DataFrame({k:pd.Series(v) for k, v in Country_in_Regions.items()})\n",
    "\n",
    "countryDF.to_csv(\"PLabProject/Countries_By_Region.csv\", index=False, header=True)\n",
    "# removes index column filled with the numbers of countries and includes the header row which is the regions"
   ]
  }
 ],
 "metadata": {
  "kernelspec": {
   "display_name": "Python 3 (ipykernel)",
   "language": "python",
   "name": "python3"
  },
  "language_info": {
   "codemirror_mode": {
    "name": "ipython",
    "version": 3
   },
   "file_extension": ".py",
   "mimetype": "text/x-python",
   "name": "python",
   "nbconvert_exporter": "python",
   "pygments_lexer": "ipython3",
   "version": "3.9.12"
  }
 },
 "nbformat": 4,
 "nbformat_minor": 5
}
